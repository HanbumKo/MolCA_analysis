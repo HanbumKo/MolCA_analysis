{
 "cells": [
  {
   "cell_type": "code",
   "execution_count": null,
   "metadata": {},
   "outputs": [],
   "source": [
    "import torch\n",
    "import torch.nn.functional as F\n",
    "import matplotlib.pyplot as plt\n",
    "from bertviz import head_view, model_view\n",
    "from transformers import AutoTokenizer, OPTForCausalLM\n",
    "from copy import deepcopy\n",
    "\n",
    "# Load tokenizer and model\n",
    "tokenizer = AutoTokenizer.from_pretrained(\"facebook/galactica-1.3b\")\n",
    "model = OPTForCausalLM.from_pretrained(\"facebook/galactica-1.3b\", device_map=\"cuda\", output_attentions=True)"
   ]
  },
  {
   "cell_type": "code",
   "execution_count": 8,
   "metadata": {},
   "outputs": [],
   "source": [
    "input_text = \"The Transformer architecture [START_REF]\"\n",
    "# input_text = \"\"\"Here is a SMILES formula:\n",
    "# [START_I_SMILES]OSPL1T-TH1S-Pl3A5E=SPL1T-TH1S-Pl3A5ECSPL1T-TH1S-Pl3A5E(SPL1T-TH1S-Pl3A5EOSPL1T-TH1S-Pl3A5E)SPL1T-TH1S-Pl3A5ECSPL1T-TH1S-Pl3A5ECSPL1T-TH1S-Pl3A5ECSPL1T-TH1S-Pl3A5ECSPL1T-TH1S-Pl3A5E1SPL1T-TH1S-Pl3A5E=SPL1T-TH1S-Pl3A5ECSPL1T-TH1S-Pl3A5ECSPL1T-TH1S-Pl3A5E=SPL1T-TH1S-Pl3A5ECSPL1T-TH1S-Pl3A5E(SPL1T-TH1S-Pl3A5ENSPL1T-TH1S-Pl3A5E(SPL1T-TH1S-Pl3A5ECSPL1T-TH1S-Pl3A5ECSPL1T-TH1S-Pl3A5ECSPL1T-TH1S-Pl3A5ElSPL1T-TH1S-Pl3A5E)SPL1T-TH1S-Pl3A5ECSPL1T-TH1S-Pl3A5ECSPL1T-TH1S-Pl3A5ECSPL1T-TH1S-Pl3A5ElSPL1T-TH1S-Pl3A5E)SPL1T-TH1S-Pl3A5ECSPL1T-TH1S-Pl3A5E=SPL1T-TH1S-Pl3A5ECSPL1T-TH1S-Pl3A5E1[END_I_SMILES]\n",
    "# Question: Will the chemical compound penetrate the blood-brain barrier? Answer: \"\"\"\n",
    "input_ids = tokenizer(input_text, return_tensors=\"pt\").input_ids.to(\"cuda\")"
   ]
  },
  {
   "cell_type": "code",
   "execution_count": 9,
   "metadata": {},
   "outputs": [],
   "source": [
    "with torch.no_grad():\n",
    "    outputs = model.generate(input_ids, output_attentions=True, return_dict_in_generate=True, max_length=100)"
   ]
  },
  {
   "cell_type": "code",
   "execution_count": 10,
   "metadata": {},
   "outputs": [],
   "source": [
    "generated_ids = outputs.sequences\n",
    "attentions = outputs.attentions\n",
    "\n",
    "n_layers = len(attentions[0])\n",
    "n_headers = attentions[0][0].shape[1]\n",
    "seq_len = generated_ids.shape[1]\n",
    "input_seq_len = input_ids.shape[1]\n",
    "output_seq_len = seq_len - input_seq_len"
   ]
  },
  {
   "cell_type": "code",
   "execution_count": 11,
   "metadata": {},
   "outputs": [],
   "source": [
    "attention_layers = [torch.zeros(1, n_headers, seq_len, seq_len) for _ in range(n_layers)]\n",
    "for seq_i in range(output_seq_len):\n",
    "    for layer_i in range(n_layers):\n",
    "        # print(attentions[seq_i][layer_i].shape)\n",
    "        if seq_i == 0:\n",
    "            attention_layers[layer_i][0, :, :input_seq_len, :input_seq_len] = deepcopy(attentions[seq_i][layer_i][0, :, :, :])\n",
    "        else:\n",
    "            attention_layers[layer_i][0, :, seq_i+input_seq_len-1, :seq_i+input_seq_len] = deepcopy(attentions[seq_i][layer_i][0, :, 0, :])"
   ]
  },
  {
   "cell_type": "code",
   "execution_count": null,
   "metadata": {},
   "outputs": [],
   "source": [
    "tokens = tokenizer.convert_ids_to_tokens(generated_ids[0])\n",
    "print(tokens)"
   ]
  },
  {
   "cell_type": "code",
   "execution_count": null,
   "metadata": {},
   "outputs": [],
   "source": [
    "head_view(attention_layers, tokens)"
   ]
  },
  {
   "cell_type": "code",
   "execution_count": null,
   "metadata": {},
   "outputs": [],
   "source": [
    "model_view(attention_layers, tokens)"
   ]
  },
  {
   "cell_type": "code",
   "execution_count": null,
   "metadata": {},
   "outputs": [],
   "source": [
    "model"
   ]
  },
  {
   "cell_type": "code",
   "execution_count": null,
   "metadata": {},
   "outputs": [],
   "source": []
  }
 ],
 "metadata": {
  "kernelspec": {
   "display_name": "molca",
   "language": "python",
   "name": "python3"
  },
  "language_info": {
   "codemirror_mode": {
    "name": "ipython",
    "version": 3
   },
   "file_extension": ".py",
   "mimetype": "text/x-python",
   "name": "python",
   "nbconvert_exporter": "python",
   "pygments_lexer": "ipython3",
   "version": "3.12.4"
  }
 },
 "nbformat": 4,
 "nbformat_minor": 2
}
